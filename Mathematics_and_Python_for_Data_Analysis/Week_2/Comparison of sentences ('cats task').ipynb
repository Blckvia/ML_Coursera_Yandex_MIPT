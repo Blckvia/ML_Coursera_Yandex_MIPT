{
 "cells": [
  {
   "cell_type": "code",
   "execution_count": 67,
   "id": "0f40c9c2",
   "metadata": {},
   "outputs": [],
   "source": [
    "import numpy as np\n",
    "import re\n",
    "import scipy.spatial"
   ]
  },
  {
   "cell_type": "code",
   "execution_count": 68,
   "id": "0c5a4419",
   "metadata": {},
   "outputs": [
    {
     "name": "stdout",
     "output_type": "stream",
     "text": [
      "{0.9402385695332803: 1, 0.8619868881315291: 1, 0.8885443574849294: 1, 0.8055388829343507: 1, 0.9351796276447836: 1, 0.7547442642060137: 1, 0.9154845745271484: 1, 0.9069515789601529: 1, 0.8833576312960392: 1, 0.8703592552895671: 1, 0.8773721321030068: 1, 0.85361498905772: 1, 0.9503708333014534: 1, 0.9442721787424647: 1, 0.8427572744917122: 1, 0.8250364469440588: 1}\n",
      "0.7547442642060137 : 1\n",
      "0.8055388829343507 : 1\n"
     ]
    }
   ],
   "source": [
    "with open('sentences.txt', encoding='utf-8') as fp:\n",
    "    file_content = fp.read().lower()\n",
    "    word_list = re.split('[^a-z]', file_content)\n",
    "    words_list = ' '.join(word_list).split()\n",
    "#     print(words_list)\n",
    "    words_list = set(words_list)\n",
    "#     print(words_list)\n",
    "\n",
    "    sentence = re.split('\\.\\n', file_content)\n",
    "    sentences = [sent.strip(\" \") for sent in sentence]\n",
    "    sentences_l = list(filter(None, sentences))\n",
    "#     print(sentences_l)\n",
    "\n",
    "ind = 0\n",
    "dictionary = {}\n",
    "for elem in words_list:\n",
    "    dictionary[elem] = ind\n",
    "    ind += 1\n",
    "dict_len = len(dictionary)\n",
    "# print(dictionary)\n",
    "\n",
    "matrix = np.zeros((n,d))\n",
    "# print(matrix.shape)\n",
    "\n",
    "with open('sentences.txt', encoding='utf-8') as fp:\n",
    "    count_sentences = 0 # Counter of our sentences\n",
    "    for line in fp:\n",
    "        words_list = re.split('[^a-z]', line.lower())\n",
    "        words_list = set(words_list)\n",
    "        words_list.remove('')\n",
    "        for elem in words_list:\n",
    "            matrix[count_sentences, dictionary[elem]] += 1\n",
    "        count_sentences += 1\n",
    "# print(matrix[19])\n",
    "\n",
    "new_dict = {}\n",
    "a = 1\n",
    "for elem in matrix[1:]:\n",
    "    new_dict[scipy.spatial.distance.cosine(matrix[0], elem)] = 1\n",
    "    a += 1\n",
    "print(new_dict)\n",
    "\n",
    "list_keys = list(new_dict.keys())\n",
    "list_keys.sort()\n",
    "for i in list_keys[:2]:\n",
    "    print(i, ':', new_dict[i])"
   ]
  },
  {
   "cell_type": "code",
   "execution_count": null,
   "id": "13279977",
   "metadata": {},
   "outputs": [],
   "source": []
  },
  {
   "cell_type": "code",
   "execution_count": null,
   "id": "7238f85e",
   "metadata": {},
   "outputs": [],
   "source": []
  }
 ],
 "metadata": {
  "kernelspec": {
   "display_name": "Python 3",
   "language": "python",
   "name": "python3"
  },
  "language_info": {
   "codemirror_mode": {
    "name": "ipython",
    "version": 3
   },
   "file_extension": ".py",
   "mimetype": "text/x-python",
   "name": "python",
   "nbconvert_exporter": "python",
   "pygments_lexer": "ipython3",
   "version": "3.8.8"
  }
 },
 "nbformat": 4,
 "nbformat_minor": 5
}
